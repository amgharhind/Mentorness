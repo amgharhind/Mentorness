{
 "cells": [
  {
   "cell_type": "markdown",
   "metadata": {},
   "source": [
    "# Mobile Price Classification\n",
    "\n"
   ]
  },
  {
   "cell_type": "markdown",
   "metadata": {},
   "source": [
    "### Import data "
   ]
  },
  {
   "cell_type": "code",
   "execution_count": null,
   "metadata": {},
   "outputs": [],
   "source": [
    "import numpy as np\n",
    "import pandas as pd\n",
    "import matplotlib.pyplot as plt\n",
    "import seaborn as sns\n",
    "from sklearn.model_selection import train_test_split\n",
    "from sklearn.impute import SimpleImputer\n",
    "from sklearn.preprocessing import StandardScaler, OneHotEncoder, MinMaxScaler\n",
    "from sklearn.compose import ColumnTransformer\n",
    "from sklearn.pipeline import Pipeline\n",
    "from sklearn.compose import ColumnTransformer\n",
    "from sklearn.metrics import f1_score,classification_report\n",
    "from sklearn.linear_model import LogisticRegression\n",
    "from sklearn.tree import DecisionTreeClassifier\n",
    "from sklearn.ensemble import RandomForestClassifier\n",
    "from sklearn.svm import SVC\n",
    "from sklearn.naive_bayes import GaussianNB\n"
   ]
  },
  {
   "cell_type": "code",
   "execution_count": null,
   "metadata": {},
   "outputs": [],
   "source": [
    "train_data = pd.read_csv('train.csv')\n",
    "train_data.head()"
   ]
  },
  {
   "cell_type": "markdown",
   "metadata": {},
   "source": []
  },
  {
   "cell_type": "code",
   "execution_count": null,
   "metadata": {},
   "outputs": [],
   "source": [
    "train_data.info()"
   ]
  },
  {
   "cell_type": "code",
   "execution_count": null,
   "metadata": {},
   "outputs": [],
   "source": [
    "train_data.isna().sum()"
   ]
  },
  {
   "cell_type": "code",
   "execution_count": null,
   "metadata": {},
   "outputs": [],
   "source": [
    "sns.heatmap(train_data.isna())"
   ]
  },
  {
   "cell_type": "code",
   "execution_count": null,
   "metadata": {},
   "outputs": [],
   "source": [
    "train_data.nunique()"
   ]
  },
  {
   "cell_type": "code",
   "execution_count": null,
   "metadata": {},
   "outputs": [],
   "source": [
    "train_data.describe()"
   ]
  },
  {
   "cell_type": "code",
   "execution_count": null,
   "metadata": {},
   "outputs": [],
   "source": []
  },
  {
   "cell_type": "markdown",
   "metadata": {},
   "source": [
    "### EDA"
   ]
  },
  {
   "cell_type": "code",
   "execution_count": null,
   "metadata": {},
   "outputs": [],
   "source": [
    "features_to_replace = ['blue', 'dual_sim', 'four_g', 'three_g', 'touch_screen', 'wifi']\n",
    "mapping = {0: 'No', 1: 'Yes'}\n",
    "\n",
    "train_data[features_to_replace] = train_data[features_to_replace].applymap(lambda x: mapping.get(x, x))\n",
    "train_data.head()"
   ]
  },
  {
   "cell_type": "code",
   "execution_count": null,
   "metadata": {},
   "outputs": [],
   "source": []
  },
  {
   "cell_type": "markdown",
   "metadata": {},
   "source": []
  },
  {
   "cell_type": "code",
   "execution_count": null,
   "metadata": {},
   "outputs": [],
   "source": [
    "df = train_data.copy(deep=True)\n",
    "df.head()"
   ]
  },
  {
   "cell_type": "code",
   "execution_count": null,
   "metadata": {},
   "outputs": [],
   "source": [
    "columns = df.columns\n",
    "\n",
    "def  univ(data, feature, size=20):\n",
    "    plt.figure(figsize=(10,4))\n",
    "    \n",
    "    if data[feature].nunique() > size:\n",
    "        plt.subplot(1,2,1)\n",
    "        sns.histplot(data=data, x=feature, kde=True,stat='density',fill=True)\n",
    "        plt.title(f'Histogram - {feature}')\n",
    "\n",
    "        plt.subplot(1,2,2)\n",
    "        sns.boxplot(data=data, y=feature)\n",
    "        plt.title(f'Boxplot - {feature}')\n",
    "    else:\n",
    "        sns.countplot(data=data, x=feature)\n",
    "        plt.title(f'Countplot - {feature}')\n",
    "\n",
    "    plt.show()\n",
    "\n",
    "\n"
   ]
  },
  {
   "cell_type": "code",
   "execution_count": null,
   "metadata": {},
   "outputs": [],
   "source": [
    "def biv(data, feature, target='price_range', size=20):\n",
    "    plt.figure(figsize=(10,4))\n",
    "    \n",
    "    if feature == target: pass\n",
    "    if data[feature].nunique() > size:\n",
    "        sns.boxplot(data=data,x=target, y=feature,palette='Set2')\n",
    "        plt.title(f'Boxplot - {feature} by {target}')\n",
    "    else:\n",
    "        sns.countplot(data=data, x=feature, hue=target,palette='Set2')\n",
    "        plt.title(f'Countplot - {target} by {feature}')\n",
    "\n",
    "    plt.show()\n"
   ]
  },
  {
   "cell_type": "code",
   "execution_count": null,
   "metadata": {},
   "outputs": [],
   "source": [
    "def multiv(data, vars, target='price_range'):\n",
    "    plt.figure(figsize=(10,4))\n",
    "    sns.pairplot(data=data, vars=vars, hue='price_range',palette='Set2')\n",
    "    plt.suptitle(f'Features:{vars} by price', y=1.02)\n",
    "    plt.show()"
   ]
  },
  {
   "cell_type": "code",
   "execution_count": null,
   "metadata": {},
   "outputs": [],
   "source": []
  },
  {
   "cell_type": "code",
   "execution_count": null,
   "metadata": {},
   "outputs": [],
   "source": [
    "for feature in features:\n",
    "    biv(df, feature)"
   ]
  },
  {
   "cell_type": "code",
   "execution_count": null,
   "metadata": {},
   "outputs": [],
   "source": [
    "\n",
    "columns = ['fc', 'pc', 'px_height', 'px_width']\n",
    "multiv(df,columns)\n",
    "\n"
   ]
  },
  {
   "cell_type": "code",
   "execution_count": null,
   "metadata": {},
   "outputs": [],
   "source": [
    "cols = ['px_width', 'px_height', 'sc_w', 'sc_h', 'mobile_wt']\n",
    "multiv(df,cols)\n"
   ]
  },
  {
   "cell_type": "code",
   "execution_count": null,
   "metadata": {},
   "outputs": [],
   "source": [
    "\n",
    "cols = ['battery_power', 'ram', 'int_memory', 'mobile_wt']\n",
    "multiv(df, cols)"
   ]
  },
  {
   "cell_type": "code",
   "execution_count": null,
   "metadata": {},
   "outputs": [],
   "source": [
    "import os\n",
    "\n",
    "def multiv(data, vars, target='price_range', save_folder='saved_images'):\n",
    "    os.makedirs(save_folder, exist_ok=True)\n",
    "    \n",
    "    plt.figure(figsize=(10,4))\n",
    "    sns.pairplot(data=data, vars=vars, hue=target, palette='Set2')\n",
    "    plt.suptitle(f'Features: {vars} by {target}', y=1.02)\n",
    "    plt.savefig(f\"{save_folder}/pairplot_{','.join(vars)}.png\")  \n",
    "    plt.show()\n",
    "\n",
    "columns = ['fc', 'pc', 'px_height', 'px_width']\n",
    "multiv(df, columns)\n",
    "\n",
    "cols1 = ['px_width', 'px_height', 'sc_w', 'sc_h', 'mobile_wt']\n",
    "multiv(df, cols1)\n",
    "\n",
    "cols2 = ['battery_power', 'ram', 'int_memory', 'mobile_wt']\n",
    "multiv(df, cols2)"
   ]
  },
  {
   "cell_type": "code",
   "execution_count": null,
   "metadata": {},
   "outputs": [],
   "source": [
    "\n",
    "# Visualize the distribution of the target variable\n",
    "sns.countplot(x='price_range', data=train_data)\n",
    "plt.title('Distribution of Price Range')\n",
    "plt.show()"
   ]
  },
  {
   "cell_type": "code",
   "execution_count": null,
   "metadata": {},
   "outputs": [],
   "source": [
    "train_data['price_range'].value_counts()"
   ]
  },
  {
   "cell_type": "markdown",
   "metadata": {},
   "source": [
    "we have the counts numbers in the differents categories of the target variable"
   ]
  },
  {
   "cell_type": "code",
   "execution_count": null,
   "metadata": {},
   "outputs": [],
   "source": [
    "# Define numerical and categorical features\n",
    "numerical_features = ['battery_power', 'clock_speed', 'fc', 'int_memory', 'm_dep', 'mobile_wt',\n",
    "                      'n_cores', 'pc', 'px_height', 'px_width', 'ram', 'sc_h', 'sc_w', 'talk_time']\n",
    "categorical_features = ['blue', 'dual_sim', 'four_g', 'three_g', 'touch_screen', 'wifi']\n"
   ]
  },
  {
   "cell_type": "code",
   "execution_count": null,
   "metadata": {},
   "outputs": [],
   "source": [
    "# Visualize distributions of numerical features\n",
    "plt.figure(figsize=(15, 20))\n",
    "for i, feature in enumerate(numerical_features, 1):\n",
    "    plt.subplot(5, 3, i)\n",
    "    sns.histplot(train_data[feature], kde=True)\n",
    "    plt.title(f'Distribution of {feature}')\n",
    "plt.tight_layout()\n",
    "plt.show()"
   ]
  },
  {
   "cell_type": "code",
   "execution_count": null,
   "metadata": {},
   "outputs": [],
   "source": [
    "# Visualize distributions of categorical features\n",
    "plt.figure(figsize=(15, 6))\n",
    "for i, feature in enumerate(categorical_features, 1):\n",
    "    plt.subplot(2, 3, i)\n",
    "    sns.countplot(x=feature, data=train_data)\n",
    "    plt.title(f'Distribution of {feature}')\n",
    "plt.tight_layout()\n",
    "plt.show()"
   ]
  },
  {
   "cell_type": "code",
   "execution_count": null,
   "metadata": {},
   "outputs": [],
   "source": [
    "# Visualize relationships between numerical features and target variable\n",
    "plt.figure(figsize=(15, 20))\n",
    "for i, feature in enumerate(numerical_features, 1):\n",
    "    plt.subplot(5, 3, i)\n",
    "    sns.boxplot(x='price_range', y=feature, data=train_data)\n",
    "    plt.title(f'Relationship between {feature} and Price Range')\n",
    "plt.tight_layout()\n",
    "plt.show()"
   ]
  },
  {
   "cell_type": "code",
   "execution_count": null,
   "metadata": {},
   "outputs": [],
   "source": [
    "import os\n",
    "\n",
    "# Create a directory to save the images\n",
    "os.makedirs(\"saved_images\", exist_ok=True)\n",
    "\n",
    "# Visualize relationships between numerical features and target variable\n",
    "plt.figure(figsize=(15, 20))\n",
    "for i, feature in enumerate(numerical_features, 1):\n",
    "    plt.subplot(5, 3, i)\n",
    "    sns.boxplot(x='price_range', y=feature, data=train_data)\n",
    "    plt.title(f'Relationship between {feature} and Price Range')\n",
    "    plt.savefig(f\"saved_images/{feature}_vs_price_range.png\")  # Save individual images\n",
    "plt.tight_layout()\n",
    "plt.savefig(\"saved_images/all_relationships.png\")  # Save one image with all diagrams\n",
    "plt.show()"
   ]
  },
  {
   "cell_type": "code",
   "execution_count": null,
   "metadata": {},
   "outputs": [],
   "source": [
    "# Visualize relationships between categorical features and target variable\n",
    "plt.figure(figsize=(15, 6))\n",
    "for i, feature in enumerate(categorical_features, 1):\n",
    "    plt.subplot(2, 3, i)\n",
    "    sns.countplot(x=feature, hue='price_range', data=train_data)\n",
    "    plt.title(f'Relationship between {feature} and Price Range')\n",
    "plt.tight_layout()\n",
    "plt.show()"
   ]
  },
  {
   "cell_type": "markdown",
   "metadata": {},
   "source": [
    "#### Observations\n",
    "- A higher battery power tends to be associated with a more advanced class of mobile device.\n",
    "- Although mobile weight does have an impact, its influence on the device class is relatively smaller compared to other factors.\n",
    "- Pixel width (px_width) is a significant factor in determining the class of mobile devices.\n",
    "- RAM (ram) is a critical determinant in the classification of mobile devices.\n",
    "- The majority of mobile devices support 3G connectivity.\n",
    "- Pixel height and width (px_height and px_width) are correlated with the class of mobile devices.\n",
    "- Screen height and width (sc_h and sc_w) also show a correlation with the class of mobile devices."
   ]
  },
  {
   "cell_type": "code",
   "execution_count": null,
   "metadata": {},
   "outputs": [],
   "source": [
    "corr_matrix = df.select_dtypes(include='number').corr()\n",
    "\n",
    "plt.figure(figsize=(10,8))\n",
    "sns.heatmap(corr_matrix, annot=True, cmap='viridis', fmt=\".2f\", linewidths=1)  \n",
    "plt.title('Modified Correlation Matrix')\n",
    "\n",
    "plt.show()"
   ]
  },
  {
   "cell_type": "markdown",
   "metadata": {},
   "source": [
    "- There exists a correlation between (ram) and price_range.\n",
    "\n",
    "- There exists a correlation between the resolutions of the primary camera (pc) and the front camera (fc).\n"
   ]
  },
  {
   "cell_type": "markdown",
   "metadata": {},
   "source": [
    "### Feature engineering"
   ]
  },
  {
   "cell_type": "code",
   "execution_count": null,
   "metadata": {},
   "outputs": [],
   "source": [
    "df_preprocessing =  train_data.copy(deep=True)\n",
    "X = df_preprocessing.drop(columns=['price_range'])\n",
    "y = df_preprocessing['price_range']\n",
    "\n",
    "X_train, X_val, y_train, y_val = train_test_split(X, y, test_size=0.2, random_state=42)\n",
    "\n",
    "print(\"X_train shape:\", X_train.shape)\n",
    "print(\"X_val shape:\", X_val.shape)\n",
    "print(\"y_train shape:\", y_train.shape)\n",
    "print(\"y_val shape:\", y_val.shape)"
   ]
  },
  {
   "cell_type": "code",
   "execution_count": null,
   "metadata": {},
   "outputs": [],
   "source": [
    "num_features = X_train.select_dtypes(include='number').columns\n",
    "cat_features = X_train.select_dtypes(include='object').columns\n",
    "\n",
    "num_pipeline = Pipeline(\n",
    "    steps=[\n",
    "        ('imputer', SimpleImputer(strategy='median')),\n",
    "        ('scaler', MinMaxScaler())\n",
    "    ]\n",
    ")\n",
    "\n",
    "cat_pipeline = Pipeline(\n",
    "    steps=[\n",
    "        ('imputer', SimpleImputer(strategy='most_frequent')),\n",
    "        ('ohe', OneHotEncoder(handle_unknown='ignore', drop='first'))\n",
    "    ]\n",
    ")\n",
    "\n",
    "preprocessor = ColumnTransformer(\n",
    "    transformers=[\n",
    "        ('num_pipeline', num_pipeline, num_features),\n",
    "        ('cat_pipeline', cat_pipeline, cat_features)\n",
    "    ],\n",
    "    remainder='drop'\n",
    ")"
   ]
  },
  {
   "cell_type": "code",
   "execution_count": null,
   "metadata": {},
   "outputs": [],
   "source": [
    "X_train_transformed_arr = preprocessor.fit_transform(X_train)\n",
    "y_train_arr = np.array(y_train)\n",
    "X_val_transformed_arr = preprocessor.transform(X_val)\n",
    "y_val_arr = np.array(y_val)"
   ]
  },
  {
   "cell_type": "markdown",
   "metadata": {},
   "source": [
    "###  modeling"
   ]
  },
  {
   "cell_type": "code",
   "execution_count": null,
   "metadata": {},
   "outputs": [],
   "source": [
    "models = {\n",
    "    'Logistic Regression': LogisticRegression(),\n",
    "    'Decision Trees': DecisionTreeClassifier(),\n",
    "    'Random Forest': RandomForestClassifier(),\n",
    "    'Support Vector Machines (SVM)': SVC(),\n",
    "    'Naive Bayes': GaussianNB(),\n",
    "    \n",
    "}"
   ]
  },
  {
   "cell_type": "code",
   "execution_count": null,
   "metadata": {},
   "outputs": [],
   "source": [
    "from sklearn.model_selection import cross_val_score\n",
    "best_model_score = -1\n",
    "best_model_name = None\n",
    "best_model = None\n",
    "\n",
    "for name, model in models.items():\n",
    "    model.fit(X_train_transformed_arr, y_train_arr)\n",
    "    y_pred = model.predict(X_val_transformed_arr)\n",
    "    cv_scores = cross_val_score(model, X_train_transformed_arr, y_train_arr, cv=5, scoring='f1_micro')\n",
    "    avg_cv_score = np.mean(cv_scores)\n",
    "    \n",
    "    print(f\"Cross-validation scores for {name}: {cv_scores}\")\n",
    "    print(f\"Average CV score for {name}: {avg_cv_score}\")\n",
    "    if avg_cv_score > best_model_score:\n",
    "        best_model_score = avg_cv_score\n",
    "        best_model_name = name\n",
    "        best_model = model\n",
    "\n",
    "y_pred = best_model.predict(X_val_transformed_arr)\n",
    "report = classification_report(y_val_arr, y_pred)\n",
    "\n",
    "print(f\"Best Model: {best_model_name}\")\n",
    "print(report)"
   ]
  },
  {
   "cell_type": "code",
   "execution_count": null,
   "metadata": {},
   "outputs": [],
   "source": [
    "from sklearn.metrics import confusion_matrix\n",
    "print(confusion_matrix(y_val_arr, y_pred))"
   ]
  },
  {
   "cell_type": "code",
   "execution_count": null,
   "metadata": {},
   "outputs": [],
   "source": [
    "sns.heatmap(confusion_matrix(y_val_arr, y_pred), annot=True, fmt='d', cmap='Blues', cbar=False)\n"
   ]
  },
  {
   "cell_type": "code",
   "execution_count": null,
   "metadata": {
    "scrolled": true
   },
   "outputs": [],
   "source": [
    "test_data = pd.read_csv(\"test.csv\")\n",
    "test_data.head()"
   ]
  },
  {
   "cell_type": "code",
   "execution_count": null,
   "metadata": {},
   "outputs": [],
   "source": [
    "test_data=test_data.drop('id',axis=1)"
   ]
  },
  {
   "cell_type": "code",
   "execution_count": null,
   "metadata": {},
   "outputs": [],
   "source": [
    "label = ['price_range']"
   ]
  },
  {
   "cell_type": "code",
   "execution_count": null,
   "metadata": {},
   "outputs": [],
   "source": [
    "features_to_replace = ['blue', 'dual_sim', 'four_g', 'three_g', 'touch_screen', 'wifi']\n",
    "mapping = {0: 'No', 1: 'Yes'}\n",
    "\n",
    "test_data[features_to_replace] = test_data[features_to_replace].applymap(lambda x: mapping.get(x, x))\n",
    "test_data.head()"
   ]
  },
  {
   "cell_type": "code",
   "execution_count": null,
   "metadata": {},
   "outputs": [],
   "source": [
    "\n",
    "test_transformed = preprocessor.transform(test_data)\n"
   ]
  },
  {
   "cell_type": "code",
   "execution_count": null,
   "metadata": {},
   "outputs": [],
   "source": [
    "test = pd.read_csv(\"test.csv\")\n"
   ]
  },
  {
   "cell_type": "code",
   "execution_count": null,
   "metadata": {},
   "outputs": [],
   "source": [
    "result = pd.DataFrame(best_model.predict(test_transformed))\n",
    "final = test.merge(result, left_index = True, right_index = True)\n",
    "final = final.rename(columns = {0:'price_range'})\n",
    "final.to_csv('result.csv')"
   ]
  },
  {
   "cell_type": "code",
   "execution_count": null,
   "metadata": {
    "scrolled": true
   },
   "outputs": [],
   "source": [
    "final_predictions = pd.read_csv(\"result.csv\")\n",
    "final_predictions.head()"
   ]
  }
 ],
 "metadata": {
  "kernelspec": {
   "display_name": "Python 3 (ipykernel)",
   "language": "python",
   "name": "python3"
  },
  "language_info": {
   "codemirror_mode": {
    "name": "ipython",
    "version": 3
   },
   "file_extension": ".py",
   "mimetype": "text/x-python",
   "name": "python",
   "nbconvert_exporter": "python",
   "pygments_lexer": "ipython3",
   "version": "3.11.5"
  }
 },
 "nbformat": 4,
 "nbformat_minor": 4
}
